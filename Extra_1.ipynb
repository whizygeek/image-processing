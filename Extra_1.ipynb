{
 "cells": [
  {
   "cell_type": "code",
   "execution_count": 1,
   "metadata": {},
   "outputs": [],
   "source": [
    "import numpy as np\n",
    "import cv2\n",
    "\n",
    "def new_circle(event,x,y,flags,params):\n",
    "    if event == cv2.EVENT_RBUTTONDOWN:\n",
    "        cv2.circle(img,(x,y),100,color=(0,0,255),thickness=10)\n",
    "\n",
    "\n",
    "\n",
    "img = cv2.imread(r\"C:\\Users\\admin\\Desktop\\Python_CV\\DATA\\dog_backpack.png\")\n",
    "\n",
    "\n",
    "cv2.namedWindow(winname=\"my_image\")\n",
    "cv2.setMouseCallback(\"my_image\",new_circle)\n",
    "\n",
    "while True:\n",
    "    cv2.imshow(\"my_image\",img)\n",
    "    if cv2.waitKey(20) & 0xFF == 27:\n",
    "        break\n",
    "cv2.destroyAllWindows()"
   ]
  }
 ],
 "metadata": {
  "kernelspec": {
   "display_name": "Python 3",
   "language": "python",
   "name": "python3"
  },
  "language_info": {
   "codemirror_mode": {
    "name": "ipython",
    "version": 3
   },
   "file_extension": ".py",
   "mimetype": "text/x-python",
   "name": "python",
   "nbconvert_exporter": "python",
   "pygments_lexer": "ipython3",
   "version": "3.6.6"
  }
 },
 "nbformat": 4,
 "nbformat_minor": 2
}
